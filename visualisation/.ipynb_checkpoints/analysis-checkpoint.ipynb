{
 "cells": [
  {
   "cell_type": "code",
   "execution_count": 38,
   "metadata": {},
   "outputs": [],
   "source": [
    "import pandas as pd\n",
    "import matplotlib.pyplot as plt\n",
    "import seaborn as sns"
   ]
  },
  {
   "cell_type": "code",
   "execution_count": 39,
   "metadata": {},
   "outputs": [],
   "source": [
    "# TODO: Add quicksort when fixed\n",
    "sort_algos = [\"SelectionSort\", \"InsertionSort\", \"MergeSort\", \"CountingSort\", \"NativeSort\", \"HeapSort\"]"
   ]
  },
  {
   "cell_type": "markdown",
   "metadata": {},
   "source": [
    "# Load data"
   ]
  },
  {
   "cell_type": "code",
   "execution_count": 40,
   "metadata": {},
   "outputs": [],
   "source": [
    "data={}\n",
    "for x in sort_algos:\n",
    "        data[x]=pd.read_csv(\"./data/\" + x + \".csv\")"
   ]
  },
  {
   "cell_type": "markdown",
   "metadata": {},
   "source": [
    "### Run this cell to visualize all the raw data"
   ]
  },
  {
   "cell_type": "code",
   "execution_count": 41,
   "metadata": {},
   "outputs": [
    {
     "name": "stdout",
     "output_type": "stream",
     "text": [
      "SelectionSort\n",
      "   power     start_time      stop_time\n",
      "0      1  1569859280050  1569859280066\n",
      "1      2  1569859280070  1569859280075\n",
      "2      3  1569859280078  1569859280082\n",
      "3      4  1569859280090  1569859280099\n",
      "4      5  1569859280103  1569859280129 \n",
      "\n",
      "InsertionSort\n",
      "   power     start_time      stop_time\n",
      "0      1  1569859317286  1569859317289\n",
      "1      2  1569859317290  1569859317292\n",
      "2      3  1569859317293  1569859317295\n",
      "3      4  1569859317297  1569859317300\n",
      "4      5  1569859317303  1569859317308 \n",
      "\n",
      "MergeSort\n",
      "   power     start_time      stop_time\n",
      "0      1  1569859319277  1569859319288\n",
      "1      2  1569859319288  1569859319293\n",
      "2      3  1569859319294  1569859319304\n",
      "3      4  1569859319306  1569859319332\n",
      "4      5  1569859319335  1569859319368 \n",
      "\n",
      "CountingSort\n",
      "   power     start_time      stop_time\n",
      "0      1  1569859320359  1569859320410\n",
      "1      2  1569859320410  1569859320448\n",
      "2      3  1569859320449  1569859320467\n",
      "3      4  1569859320469  1569859320488\n",
      "4      5  1569859320491  1569859320536 \n",
      "\n",
      "NativeSort\n",
      "   power     start_time      stop_time\n",
      "0      1  1569859321267  1569859321277\n",
      "1      2  1569859321278  1569859321283\n",
      "2      3  1569859321284  1569859321291\n",
      "3      4  1569859321293  1569859321302\n",
      "4      5  1569859321306  1569859321340 \n",
      "\n",
      "HeapSort\n",
      "   power     start_time      stop_time\n",
      "0      1  1569859323501  1569859323508\n",
      "1      2  1569859323508  1569859323511\n",
      "2      3  1569859323512  1569859323515\n",
      "3      4  1569859323517  1569859323523\n",
      "4      5  1569859323526  1569859323540 \n",
      "\n"
     ]
    }
   ],
   "source": [
    "for algo, df in data.items():\n",
    "    print(algo)\n",
    "    print(df.head(),\"\\n\")"
   ]
  },
  {
   "cell_type": "markdown",
   "metadata": {},
   "source": [
    "### Run the next 2 cells to see first dataframe and quick metrics about it"
   ]
  },
  {
   "cell_type": "code",
   "execution_count": 31,
   "metadata": {},
   "outputs": [
    {
     "data": {
      "text/html": [
       "<div>\n",
       "<style scoped>\n",
       "    .dataframe tbody tr th:only-of-type {\n",
       "        vertical-align: middle;\n",
       "    }\n",
       "\n",
       "    .dataframe tbody tr th {\n",
       "        vertical-align: top;\n",
       "    }\n",
       "\n",
       "    .dataframe thead th {\n",
       "        text-align: right;\n",
       "    }\n",
       "</style>\n",
       "<table border=\"1\" class=\"dataframe\">\n",
       "  <thead>\n",
       "    <tr style=\"text-align: right;\">\n",
       "      <th></th>\n",
       "      <th>power</th>\n",
       "      <th>start_time</th>\n",
       "      <th>stop_time</th>\n",
       "    </tr>\n",
       "  </thead>\n",
       "  <tbody>\n",
       "    <tr>\n",
       "      <th>0</th>\n",
       "      <td>1</td>\n",
       "      <td>1569859280050</td>\n",
       "      <td>1569859280066</td>\n",
       "    </tr>\n",
       "    <tr>\n",
       "      <th>1</th>\n",
       "      <td>2</td>\n",
       "      <td>1569859280070</td>\n",
       "      <td>1569859280075</td>\n",
       "    </tr>\n",
       "    <tr>\n",
       "      <th>2</th>\n",
       "      <td>3</td>\n",
       "      <td>1569859280078</td>\n",
       "      <td>1569859280082</td>\n",
       "    </tr>\n",
       "    <tr>\n",
       "      <th>3</th>\n",
       "      <td>4</td>\n",
       "      <td>1569859280090</td>\n",
       "      <td>1569859280099</td>\n",
       "    </tr>\n",
       "    <tr>\n",
       "      <th>4</th>\n",
       "      <td>5</td>\n",
       "      <td>1569859280103</td>\n",
       "      <td>1569859280129</td>\n",
       "    </tr>\n",
       "  </tbody>\n",
       "</table>\n",
       "</div>"
      ],
      "text/plain": [
       "   power     start_time      stop_time\n",
       "0      1  1569859280050  1569859280066\n",
       "1      2  1569859280070  1569859280075\n",
       "2      3  1569859280078  1569859280082\n",
       "3      4  1569859280090  1569859280099\n",
       "4      5  1569859280103  1569859280129"
      ]
     },
     "execution_count": 31,
     "metadata": {},
     "output_type": "execute_result"
    }
   ],
   "source": [
    "data[sort_algos[0]].head()"
   ]
  },
  {
   "cell_type": "code",
   "execution_count": 32,
   "metadata": {},
   "outputs": [
    {
     "data": {
      "text/html": [
       "<div>\n",
       "<style scoped>\n",
       "    .dataframe tbody tr th:only-of-type {\n",
       "        vertical-align: middle;\n",
       "    }\n",
       "\n",
       "    .dataframe tbody tr th {\n",
       "        vertical-align: top;\n",
       "    }\n",
       "\n",
       "    .dataframe thead th {\n",
       "        text-align: right;\n",
       "    }\n",
       "</style>\n",
       "<table border=\"1\" class=\"dataframe\">\n",
       "  <thead>\n",
       "    <tr style=\"text-align: right;\">\n",
       "      <th></th>\n",
       "      <th>power</th>\n",
       "      <th>start_time</th>\n",
       "      <th>stop_time</th>\n",
       "    </tr>\n",
       "  </thead>\n",
       "  <tbody>\n",
       "    <tr>\n",
       "      <th>count</th>\n",
       "      <td>10.00000</td>\n",
       "      <td>1.000000e+01</td>\n",
       "      <td>1.000000e+01</td>\n",
       "    </tr>\n",
       "    <tr>\n",
       "      <th>mean</th>\n",
       "      <td>5.50000</td>\n",
       "      <td>1.569859e+12</td>\n",
       "      <td>1.569859e+12</td>\n",
       "    </tr>\n",
       "    <tr>\n",
       "      <th>std</th>\n",
       "      <td>3.02765</td>\n",
       "      <td>3.020623e+03</td>\n",
       "      <td>1.168416e+04</td>\n",
       "    </tr>\n",
       "    <tr>\n",
       "      <th>min</th>\n",
       "      <td>1.00000</td>\n",
       "      <td>1.569859e+12</td>\n",
       "      <td>1.569859e+12</td>\n",
       "    </tr>\n",
       "    <tr>\n",
       "      <th>25%</th>\n",
       "      <td>3.25000</td>\n",
       "      <td>1.569859e+12</td>\n",
       "      <td>1.569859e+12</td>\n",
       "    </tr>\n",
       "    <tr>\n",
       "      <th>50%</th>\n",
       "      <td>5.50000</td>\n",
       "      <td>1.569859e+12</td>\n",
       "      <td>1.569859e+12</td>\n",
       "    </tr>\n",
       "    <tr>\n",
       "      <th>75%</th>\n",
       "      <td>7.75000</td>\n",
       "      <td>1.569859e+12</td>\n",
       "      <td>1.569859e+12</td>\n",
       "    </tr>\n",
       "    <tr>\n",
       "      <th>max</th>\n",
       "      <td>10.00000</td>\n",
       "      <td>1.569859e+12</td>\n",
       "      <td>1.569859e+12</td>\n",
       "    </tr>\n",
       "  </tbody>\n",
       "</table>\n",
       "</div>"
      ],
      "text/plain": [
       "          power    start_time     stop_time\n",
       "count  10.00000  1.000000e+01  1.000000e+01\n",
       "mean    5.50000  1.569859e+12  1.569859e+12\n",
       "std     3.02765  3.020623e+03  1.168416e+04\n",
       "min     1.00000  1.569859e+12  1.569859e+12\n",
       "25%     3.25000  1.569859e+12  1.569859e+12\n",
       "50%     5.50000  1.569859e+12  1.569859e+12\n",
       "75%     7.75000  1.569859e+12  1.569859e+12\n",
       "max    10.00000  1.569859e+12  1.569859e+12"
      ]
     },
     "execution_count": 32,
     "metadata": {},
     "output_type": "execute_result"
    }
   ],
   "source": [
    "data[sort_algos[0]].describe()"
   ]
  },
  {
   "cell_type": "markdown",
   "metadata": {},
   "source": [
    "# Creating the new features\n",
    "\n",
    "- running time in miliseconds<br>\n",
    "..."
   ]
  },
  {
   "cell_type": "code",
   "execution_count": 42,
   "metadata": {},
   "outputs": [],
   "source": [
    "for algo, df in data.items():\n",
    "    df[\"run_time\"] = df.loc[:,\"stop_time\"] - df.loc[:,\"start_time\"]"
   ]
  },
  {
   "cell_type": "code",
   "execution_count": 43,
   "metadata": {},
   "outputs": [
    {
     "data": {
      "text/html": [
       "<div>\n",
       "<style scoped>\n",
       "    .dataframe tbody tr th:only-of-type {\n",
       "        vertical-align: middle;\n",
       "    }\n",
       "\n",
       "    .dataframe tbody tr th {\n",
       "        vertical-align: top;\n",
       "    }\n",
       "\n",
       "    .dataframe thead th {\n",
       "        text-align: right;\n",
       "    }\n",
       "</style>\n",
       "<table border=\"1\" class=\"dataframe\">\n",
       "  <thead>\n",
       "    <tr style=\"text-align: right;\">\n",
       "      <th></th>\n",
       "      <th>power</th>\n",
       "      <th>start_time</th>\n",
       "      <th>stop_time</th>\n",
       "      <th>run_time</th>\n",
       "    </tr>\n",
       "  </thead>\n",
       "  <tbody>\n",
       "    <tr>\n",
       "      <th>0</th>\n",
       "      <td>1</td>\n",
       "      <td>1569859280050</td>\n",
       "      <td>1569859280066</td>\n",
       "      <td>16</td>\n",
       "    </tr>\n",
       "    <tr>\n",
       "      <th>1</th>\n",
       "      <td>2</td>\n",
       "      <td>1569859280070</td>\n",
       "      <td>1569859280075</td>\n",
       "      <td>5</td>\n",
       "    </tr>\n",
       "    <tr>\n",
       "      <th>2</th>\n",
       "      <td>3</td>\n",
       "      <td>1569859280078</td>\n",
       "      <td>1569859280082</td>\n",
       "      <td>4</td>\n",
       "    </tr>\n",
       "    <tr>\n",
       "      <th>3</th>\n",
       "      <td>4</td>\n",
       "      <td>1569859280090</td>\n",
       "      <td>1569859280099</td>\n",
       "      <td>9</td>\n",
       "    </tr>\n",
       "    <tr>\n",
       "      <th>4</th>\n",
       "      <td>5</td>\n",
       "      <td>1569859280103</td>\n",
       "      <td>1569859280129</td>\n",
       "      <td>26</td>\n",
       "    </tr>\n",
       "  </tbody>\n",
       "</table>\n",
       "</div>"
      ],
      "text/plain": [
       "   power     start_time      stop_time  run_time\n",
       "0      1  1569859280050  1569859280066        16\n",
       "1      2  1569859280070  1569859280075         5\n",
       "2      3  1569859280078  1569859280082         4\n",
       "3      4  1569859280090  1569859280099         9\n",
       "4      5  1569859280103  1569859280129        26"
      ]
     },
     "execution_count": 43,
     "metadata": {},
     "output_type": "execute_result"
    }
   ],
   "source": [
    "data[sort_algos[0]].head()"
   ]
  },
  {
   "cell_type": "markdown",
   "metadata": {},
   "source": [
    "# Plotting runtime for each sort"
   ]
  },
  {
   "cell_type": "code",
   "execution_count": 50,
   "metadata": {},
   "outputs": [
    {
     "data": {
      "image/png": "[encoded data removed]",
      "text/plain": [
       "<Figure size 432x288 with 1 Axes>"
      ]
     },
     "metadata": {
      "needs_background": "light"
     },
     "output_type": "display_data"
    },
    {
     "data": {
      "image/png": "[encoded data removed]",
      "text/plain": [
       "<Figure size 432x288 with 1 Axes>"
      ]
     },
     "metadata": {
      "needs_background": "light"
     },
     "output_type": "display_data"
    },
    {
     "data": {
      "image/png": "[encoded data removed]",
      "text/plain": [
       "<Figure size 432x288 with 1 Axes>"
      ]
     },
     "metadata": {
      "needs_background": "light"
     },
     "output_type": "display_data"
    },
    {
     "data": {
      "image/png": "[encoded data removed]",
      "text/plain": [
       "<Figure size 432x288 with 1 Axes>"
      ]
     },
     "metadata": {
      "needs_background": "light"
     },
     "output_type": "display_data"
    },
    {
     "data": {
      "image/png": "[encoded data removed]",
      "text/plain": [
       "<Figure size 432x288 with 1 Axes>"
      ]
     },
     "metadata": {
      "needs_background": "light"
     },
     "output_type": "display_data"
    },
    {
     "data": {
      "image/png": "[encoded data removed]",
      "text/plain": [
       "<Figure size 432x288 with 1 Axes>"
      ]
     },
     "metadata": {
      "needs_background": "light"
     },
     "output_type": "display_data"
    }
   ],
   "source": [
    "for algo, df in data.items():\n",
    "    # simply plotting without the log add param `logx = True` or `logy = True` for log on x or y axis to the plot function\n",
    "    # check pandas dataframe.plot() for more details\n",
    "    df.plot(x='power', y='run_time')"
   ]
  },
  {
   "cell_type": "code",
   "execution_count": null,
   "metadata": {},
   "outputs": [],
   "source": []
  }
 ],
 "metadata": {
  "kernelspec": {
   "display_name": "Python 3",
   "language": "python",
   "name": "python3"
  },
  "language_info": {
   "codemirror_mode": {
    "name": "ipython",
    "version": 3
   },
   "file_extension": ".py",
   "mimetype": "text/x-python",
   "name": "python",
   "nbconvert_exporter": "python",
   "pygments_lexer": "ipython3",
   "version": "3.7.3"
  }
 },
 "nbformat": 4,
 "nbformat_minor": 2
}
