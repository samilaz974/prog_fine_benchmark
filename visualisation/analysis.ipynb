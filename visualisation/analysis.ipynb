{
 "cells": [
  {
   "cell_type": "code",
   "execution_count": 1,
   "metadata": {},
   "outputs": [],
   "source": [
    "import pandas as pd\n",
    "import matplotlib.pyplot as plt\n",
    "import seaborn as sns\n",
    "import numpy as np"
   ]
  },
  {
   "cell_type": "code",
   "execution_count": 2,
   "metadata": {},
   "outputs": [],
   "source": [
    "# TODO: Add quicksort when fixed\n",
    "sort_algos = [\"SelectionSort\", \"InsertionSort\", \"MergeSort\", \"CountingSort\", \"NativeSort\", \"HeapSort\", \"QuickSort\"]"
   ]
  },
  {
   "cell_type": "markdown",
   "metadata": {},
   "source": [
    "# Load data"
   ]
  },
  {
   "cell_type": "code",
   "execution_count": 3,
   "metadata": {},
   "outputs": [],
   "source": [
    "data={}\n",
    "for x in sort_algos:\n",
    "        data[x]=pd.read_csv(\"./data/\" + x + \".csv\")"
   ]
  },
  {
   "cell_type": "markdown",
   "metadata": {},
   "source": [
    "### Run this cell to visualize all the raw data"
   ]
  },
  {
   "cell_type": "code",
   "execution_count": 4,
   "metadata": {},
   "outputs": [
    {
     "name": "stdout",
     "output_type": "stream",
     "text": [
      "SelectionSort\n",
      "   power     start_time      stop_time\n",
      "0      1  1569948367672  1569948367682\n",
      "1      2  1569948367685  1569948367686\n",
      "2      3  1569948367687  1569948367689\n",
      "3      4  1569948367689  1569948367693\n",
      "4      5  1569948367693  1569948367697 \n",
      "\n",
      "InsertionSort\n",
      "   power     start_time      stop_time\n",
      "0      1  1569948848980  1569948848983\n",
      "1      2  1569948848983  1569948848984\n",
      "2      3  1569948848984  1569948848984\n",
      "3      4  1569948848985  1569948848985\n",
      "4      5  1569948848986  1569948848987 \n",
      "\n",
      "MergeSort\n",
      "   power     start_time      stop_time\n",
      "0      1  1569948955756  1569948955760\n",
      "1      2  1569948955760  1569948955761\n",
      "2      3  1569948955762  1569948955764\n",
      "3      4  1569948955764  1569948955767\n",
      "4      5  1569948955768  1569948955775 \n",
      "\n",
      "CountingSort\n",
      "   power     start_time      stop_time\n",
      "0      1  1569948959669  1569948959683\n",
      "1      2  1569948959683  1569948959687\n",
      "2      3  1569948959688  1569948959693\n",
      "3      4  1569948959693  1569948959699\n",
      "4      5  1569948959700  1569948959706 \n",
      "\n",
      "NativeSort\n",
      "   power     start_time      stop_time\n",
      "0      1  1569948961488  1569948961493\n",
      "1      2  1569948961493  1569948961494\n",
      "2      3  1569948961494  1569948961496\n",
      "3      4  1569948961496  1569948961497\n",
      "4      5  1569948961498  1569948961506 \n",
      "\n",
      "HeapSort\n",
      "   power     start_time      stop_time\n",
      "0      1  1569948970633  1569948970637\n",
      "1      2  1569948970637  1569948970638\n",
      "2      3  1569948970638  1569948970639\n",
      "3      4  1569948970639  1569948970640\n",
      "4      5  1569948970641  1569948970642 \n",
      "\n",
      "QuickSort\n",
      "   power     start_time      stop_time\n",
      "0      1  1569948951429  1569948951431\n",
      "1      2  1569948951432  1569948951432\n",
      "2      3  1569948951432  1569948951433\n",
      "3      4  1569948951433  1569948951434\n",
      "4      5  1569948951434  1569948951437 \n",
      "\n"
     ]
    }
   ],
   "source": [
    "for algo, df in data.items():\n",
    "    print(algo)\n",
    "    print(df.head(),\"\\n\")"
   ]
  },
  {
   "cell_type": "markdown",
   "metadata": {},
   "source": [
    "### Run the next 2 cells to see first dataframe and quick metrics about it"
   ]
  },
  {
   "cell_type": "code",
   "execution_count": 5,
   "metadata": {},
   "outputs": [
    {
     "data": {
      "text/html": [
       "<div>\n",
       "<style scoped>\n",
       "    .dataframe tbody tr th:only-of-type {\n",
       "        vertical-align: middle;\n",
       "    }\n",
       "\n",
       "    .dataframe tbody tr th {\n",
       "        vertical-align: top;\n",
       "    }\n",
       "\n",
       "    .dataframe thead th {\n",
       "        text-align: right;\n",
       "    }\n",
       "</style>\n",
       "<table border=\"1\" class=\"dataframe\">\n",
       "  <thead>\n",
       "    <tr style=\"text-align: right;\">\n",
       "      <th></th>\n",
       "      <th>power</th>\n",
       "      <th>start_time</th>\n",
       "      <th>stop_time</th>\n",
       "    </tr>\n",
       "  </thead>\n",
       "  <tbody>\n",
       "    <tr>\n",
       "      <th>0</th>\n",
       "      <td>1</td>\n",
       "      <td>1569948367672</td>\n",
       "      <td>1569948367682</td>\n",
       "    </tr>\n",
       "    <tr>\n",
       "      <th>1</th>\n",
       "      <td>2</td>\n",
       "      <td>1569948367685</td>\n",
       "      <td>1569948367686</td>\n",
       "    </tr>\n",
       "    <tr>\n",
       "      <th>2</th>\n",
       "      <td>3</td>\n",
       "      <td>1569948367687</td>\n",
       "      <td>1569948367689</td>\n",
       "    </tr>\n",
       "    <tr>\n",
       "      <th>3</th>\n",
       "      <td>4</td>\n",
       "      <td>1569948367689</td>\n",
       "      <td>1569948367693</td>\n",
       "    </tr>\n",
       "    <tr>\n",
       "      <th>4</th>\n",
       "      <td>5</td>\n",
       "      <td>1569948367693</td>\n",
       "      <td>1569948367697</td>\n",
       "    </tr>\n",
       "  </tbody>\n",
       "</table>\n",
       "</div>"
      ],
      "text/plain": [
       "   power     start_time      stop_time\n",
       "0      1  1569948367672  1569948367682\n",
       "1      2  1569948367685  1569948367686\n",
       "2      3  1569948367687  1569948367689\n",
       "3      4  1569948367689  1569948367693\n",
       "4      5  1569948367693  1569948367697"
      ]
     },
     "execution_count": 5,
     "metadata": {},
     "output_type": "execute_result"
    }
   ],
   "source": [
    "data[sort_algos[0]].head()"
   ]
  },
  {
   "cell_type": "code",
   "execution_count": 6,
   "metadata": {},
   "outputs": [
    {
     "data": {
      "text/html": [
       "<div>\n",
       "<style scoped>\n",
       "    .dataframe tbody tr th:only-of-type {\n",
       "        vertical-align: middle;\n",
       "    }\n",
       "\n",
       "    .dataframe tbody tr th {\n",
       "        vertical-align: top;\n",
       "    }\n",
       "\n",
       "    .dataframe thead th {\n",
       "        text-align: right;\n",
       "    }\n",
       "</style>\n",
       "<table border=\"1\" class=\"dataframe\">\n",
       "  <thead>\n",
       "    <tr style=\"text-align: right;\">\n",
       "      <th></th>\n",
       "      <th>power</th>\n",
       "      <th>start_time</th>\n",
       "      <th>stop_time</th>\n",
       "    </tr>\n",
       "  </thead>\n",
       "  <tbody>\n",
       "    <tr>\n",
       "      <th>count</th>\n",
       "      <td>15.000000</td>\n",
       "      <td>1.500000e+01</td>\n",
       "      <td>1.500000e+01</td>\n",
       "    </tr>\n",
       "    <tr>\n",
       "      <th>mean</th>\n",
       "      <td>8.000000</td>\n",
       "      <td>1.569948e+12</td>\n",
       "      <td>1.569948e+12</td>\n",
       "    </tr>\n",
       "    <tr>\n",
       "      <th>std</th>\n",
       "      <td>4.472136</td>\n",
       "      <td>3.079952e+04</td>\n",
       "      <td>1.251446e+05</td>\n",
       "    </tr>\n",
       "    <tr>\n",
       "      <th>min</th>\n",
       "      <td>1.000000</td>\n",
       "      <td>1.569948e+12</td>\n",
       "      <td>1.569948e+12</td>\n",
       "    </tr>\n",
       "    <tr>\n",
       "      <th>25%</th>\n",
       "      <td>4.500000</td>\n",
       "      <td>1.569948e+12</td>\n",
       "      <td>1.569948e+12</td>\n",
       "    </tr>\n",
       "    <tr>\n",
       "      <th>50%</th>\n",
       "      <td>8.000000</td>\n",
       "      <td>1.569948e+12</td>\n",
       "      <td>1.569948e+12</td>\n",
       "    </tr>\n",
       "    <tr>\n",
       "      <th>75%</th>\n",
       "      <td>11.500000</td>\n",
       "      <td>1.569948e+12</td>\n",
       "      <td>1.569948e+12</td>\n",
       "    </tr>\n",
       "    <tr>\n",
       "      <th>max</th>\n",
       "      <td>15.000000</td>\n",
       "      <td>1.569948e+12</td>\n",
       "      <td>1.569949e+12</td>\n",
       "    </tr>\n",
       "  </tbody>\n",
       "</table>\n",
       "</div>"
      ],
      "text/plain": [
       "           power    start_time     stop_time\n",
       "count  15.000000  1.500000e+01  1.500000e+01\n",
       "mean    8.000000  1.569948e+12  1.569948e+12\n",
       "std     4.472136  3.079952e+04  1.251446e+05\n",
       "min     1.000000  1.569948e+12  1.569948e+12\n",
       "25%     4.500000  1.569948e+12  1.569948e+12\n",
       "50%     8.000000  1.569948e+12  1.569948e+12\n",
       "75%    11.500000  1.569948e+12  1.569948e+12\n",
       "max    15.000000  1.569948e+12  1.569949e+12"
      ]
     },
     "execution_count": 6,
     "metadata": {},
     "output_type": "execute_result"
    }
   ],
   "source": [
    "data[sort_algos[0]].describe()"
   ]
  },
  {
   "cell_type": "markdown",
   "metadata": {},
   "source": [
    "# Creating the new features\n",
    "\n",
    "- running time in miliseconds<br>\n",
    "..."
   ]
  },
  {
   "cell_type": "code",
   "execution_count": 7,
   "metadata": {},
   "outputs": [],
   "source": [
    "for algo, df in data.items():\n",
    "    df[\"run_time\"] = df.loc[:,\"stop_time\"] - df.loc[:,\"start_time\"]\n"
   ]
  },
  {
   "cell_type": "code",
   "execution_count": 8,
   "metadata": {},
   "outputs": [
    {
     "data": {
      "text/html": [
       "<div>\n",
       "<style scoped>\n",
       "    .dataframe tbody tr th:only-of-type {\n",
       "        vertical-align: middle;\n",
       "    }\n",
       "\n",
       "    .dataframe tbody tr th {\n",
       "        vertical-align: top;\n",
       "    }\n",
       "\n",
       "    .dataframe thead th {\n",
       "        text-align: right;\n",
       "    }\n",
       "</style>\n",
       "<table border=\"1\" class=\"dataframe\">\n",
       "  <thead>\n",
       "    <tr style=\"text-align: right;\">\n",
       "      <th></th>\n",
       "      <th>power</th>\n",
       "      <th>start_time</th>\n",
       "      <th>stop_time</th>\n",
       "      <th>run_time</th>\n",
       "    </tr>\n",
       "  </thead>\n",
       "  <tbody>\n",
       "    <tr>\n",
       "      <th>0</th>\n",
       "      <td>1</td>\n",
       "      <td>1569948367672</td>\n",
       "      <td>1569948367682</td>\n",
       "      <td>10</td>\n",
       "    </tr>\n",
       "    <tr>\n",
       "      <th>1</th>\n",
       "      <td>2</td>\n",
       "      <td>1569948367685</td>\n",
       "      <td>1569948367686</td>\n",
       "      <td>1</td>\n",
       "    </tr>\n",
       "    <tr>\n",
       "      <th>2</th>\n",
       "      <td>3</td>\n",
       "      <td>1569948367687</td>\n",
       "      <td>1569948367689</td>\n",
       "      <td>2</td>\n",
       "    </tr>\n",
       "    <tr>\n",
       "      <th>3</th>\n",
       "      <td>4</td>\n",
       "      <td>1569948367689</td>\n",
       "      <td>1569948367693</td>\n",
       "      <td>4</td>\n",
       "    </tr>\n",
       "    <tr>\n",
       "      <th>4</th>\n",
       "      <td>5</td>\n",
       "      <td>1569948367693</td>\n",
       "      <td>1569948367697</td>\n",
       "      <td>4</td>\n",
       "    </tr>\n",
       "    <tr>\n",
       "      <th>5</th>\n",
       "      <td>6</td>\n",
       "      <td>1569948367699</td>\n",
       "      <td>1569948367706</td>\n",
       "      <td>7</td>\n",
       "    </tr>\n",
       "    <tr>\n",
       "      <th>6</th>\n",
       "      <td>7</td>\n",
       "      <td>1569948367708</td>\n",
       "      <td>1569948367721</td>\n",
       "      <td>13</td>\n",
       "    </tr>\n",
       "    <tr>\n",
       "      <th>7</th>\n",
       "      <td>8</td>\n",
       "      <td>1569948367728</td>\n",
       "      <td>1569948367761</td>\n",
       "      <td>33</td>\n",
       "    </tr>\n",
       "    <tr>\n",
       "      <th>8</th>\n",
       "      <td>9</td>\n",
       "      <td>1569948367766</td>\n",
       "      <td>1569948367874</td>\n",
       "      <td>108</td>\n",
       "    </tr>\n",
       "    <tr>\n",
       "      <th>9</th>\n",
       "      <td>10</td>\n",
       "      <td>1569948367884</td>\n",
       "      <td>1569948368295</td>\n",
       "      <td>411</td>\n",
       "    </tr>\n",
       "    <tr>\n",
       "      <th>10</th>\n",
       "      <td>11</td>\n",
       "      <td>1569948368320</td>\n",
       "      <td>1569948369767</td>\n",
       "      <td>1447</td>\n",
       "    </tr>\n",
       "    <tr>\n",
       "      <th>11</th>\n",
       "      <td>12</td>\n",
       "      <td>1569948369817</td>\n",
       "      <td>1569948375417</td>\n",
       "      <td>5600</td>\n",
       "    </tr>\n",
       "    <tr>\n",
       "      <th>12</th>\n",
       "      <td>13</td>\n",
       "      <td>1569948375501</td>\n",
       "      <td>1569948396809</td>\n",
       "      <td>21308</td>\n",
       "    </tr>\n",
       "    <tr>\n",
       "      <th>13</th>\n",
       "      <td>14</td>\n",
       "      <td>1569948397001</td>\n",
       "      <td>1569948485766</td>\n",
       "      <td>88765</td>\n",
       "    </tr>\n",
       "    <tr>\n",
       "      <th>14</th>\n",
       "      <td>15</td>\n",
       "      <td>1569948486153</td>\n",
       "      <td>1569948848980</td>\n",
       "      <td>362827</td>\n",
       "    </tr>\n",
       "  </tbody>\n",
       "</table>\n",
       "</div>"
      ],
      "text/plain": [
       "    power     start_time      stop_time  run_time\n",
       "0       1  1569948367672  1569948367682        10\n",
       "1       2  1569948367685  1569948367686         1\n",
       "2       3  1569948367687  1569948367689         2\n",
       "3       4  1569948367689  1569948367693         4\n",
       "4       5  1569948367693  1569948367697         4\n",
       "5       6  1569948367699  1569948367706         7\n",
       "6       7  1569948367708  1569948367721        13\n",
       "7       8  1569948367728  1569948367761        33\n",
       "8       9  1569948367766  1569948367874       108\n",
       "9      10  1569948367884  1569948368295       411\n",
       "10     11  1569948368320  1569948369767      1447\n",
       "11     12  1569948369817  1569948375417      5600\n",
       "12     13  1569948375501  1569948396809     21308\n",
       "13     14  1569948397001  1569948485766     88765\n",
       "14     15  1569948486153  1569948848980    362827"
      ]
     },
     "execution_count": 8,
     "metadata": {},
     "output_type": "execute_result"
    }
   ],
   "source": [
    "data[sort_algos[0]]"
   ]
  },
  {
   "cell_type": "markdown",
   "metadata": {},
   "source": [
    "# Plotting runtime for each sort"
   ]
  },
  {
   "cell_type": "code",
   "execution_count": 9,
   "metadata": {},
   "outputs": [
    {
     "data": {
      "image/png": "[encoded data removed]",
      "text/plain": [
       "<Figure size 432x288 with 1 Axes>"
      ]
     },
     "metadata": {
      "needs_background": "light"
     },
     "output_type": "display_data"
    },
    {
     "data": {
      "image/png": "[encoded data removed]",
      "text/plain": [
       "<Figure size 432x288 with 1 Axes>"
      ]
     },
     "metadata": {
      "needs_background": "light"
     },
     "output_type": "display_data"
    },
    {
     "data": {
      "image/png": "[encoded data removed]",
      "text/plain": [
       "<Figure size 432x288 with 1 Axes>"
      ]
     },
     "metadata": {
      "needs_background": "light"
     },
     "output_type": "display_data"
    },
    {
     "data": {
      "image/png": "[encoded data removed]",
      "text/plain": [
       "<Figure size 432x288 with 1 Axes>"
      ]
     },
     "metadata": {
      "needs_background": "light"
     },
     "output_type": "display_data"
    },
    {
     "data": {
      "image/png": "[encoded data removed]",
      "text/plain": [
       "<Figure size 432x288 with 1 Axes>"
      ]
     },
     "metadata": {
      "needs_background": "light"
     },
     "output_type": "display_data"
    },
    {
     "data": {
      "image/png": "[encoded data removed]",
      "text/plain": [
       "<Figure size 432x288 with 1 Axes>"
      ]
     },
     "metadata": {
      "needs_background": "light"
     },
     "output_type": "display_data"
    },
    {
     "data": {
      "image/png": "[encoded data removed]",
      "text/plain": [
       "<Figure size 432x288 with 1 Axes>"
      ]
     },
     "metadata": {
      "needs_background": "light"
     },
     "output_type": "display_data"
    }
   ],
   "source": [
    "# INDIVIDUAL PLOT\n",
    "for algo, df in data.items():\n",
    "    # simply plotting without the log add param `logx = True` or `logy = True` for log on x or y axis to the plot function\n",
    "    # check pandas dataframe.plot() for more details\n",
    "    df.plot(x='power', y='run_time', title=algo)\n",
    "plt.show()"
   ]
  },
  {
   "cell_type": "code",
   "execution_count": 10,
   "metadata": {},
   "outputs": [
    {
     "data": {
      "image/png": "[encoded data removed]",
      "text/plain": [
       "<Figure size 432x288 with 1 Axes>"
      ]
     },
     "metadata": {
      "needs_background": "light"
     },
     "output_type": "display_data"
    }
   ],
   "source": [
    "# GROUPED PLOT\n",
    "fig = plt.figure()\n",
    "\n",
    "for algo, df in data.items():\n",
    "    plt.plot(df.loc[:,\"power\"], df.loc[:,\"run_time\"], label=algo)\n",
    "\n",
    "plt.legend()\n",
    "plt.show()"
   ]
  },
  {
   "cell_type": "code",
   "execution_count": 11,
   "metadata": {},
   "outputs": [
    {
     "data": {
      "image/png": "[encoded data removed]",
      "text/plain": [
       "<Figure size 432x288 with 1 Axes>"
      ]
     },
     "metadata": {
      "needs_background": "light"
     },
     "output_type": "display_data"
    }
   ],
   "source": [
    "# GROUPED PLOT\n",
    "fig = plt.figure()\n",
    "\n",
    "for algo, df in data.items():\n",
    "    if algo is not \"SelectionSort\":\n",
    "        plt.plot(df.loc[:,\"power\"], df.loc[:,\"run_time\"], label=algo)\n",
    "\n",
    "plt.legend()\n",
    "plt.show()"
   ]
  },
  {
   "cell_type": "code",
   "execution_count": 12,
   "metadata": {},
   "outputs": [
    {
     "data": {
      "image/png": "[encoded data removed]",
      "text/plain": [
       "<Figure size 432x288 with 1 Axes>"
      ]
     },
     "metadata": {
      "needs_background": "light"
     },
     "output_type": "display_data"
    }
   ],
   "source": [
    "# GROUPED PLOT\n",
    "fig = plt.figure()\n",
    "\n",
    "for algo, df in data.items():\n",
    "    if algo not in [\"SelectionSort\", \"InsertionSort\"]:\n",
    "        plt.plot(df.loc[:,\"power\"], df.loc[:,\"run_time\"], label=algo)\n",
    "\n",
    "plt.legend()\n",
    "plt.show()"
   ]
  },
  {
   "cell_type": "markdown",
   "metadata": {},
   "source": [
    "# Computing the coeff"
   ]
  },
  {
   "cell_type": "code",
   "execution_count": 13,
   "metadata": {},
   "outputs": [],
   "source": [
    "for algo, df in data.items():\n",
    "    df[\"elements\"] = df.loc[:,\"power\"].apply(lambda x: np.power(2,x))\n"
   ]
  },
  {
   "cell_type": "code",
   "execution_count": 14,
   "metadata": {},
   "outputs": [
    {
     "data": {
      "text/html": [
       "<div>\n",
       "<style scoped>\n",
       "    .dataframe tbody tr th:only-of-type {\n",
       "        vertical-align: middle;\n",
       "    }\n",
       "\n",
       "    .dataframe tbody tr th {\n",
       "        vertical-align: top;\n",
       "    }\n",
       "\n",
       "    .dataframe thead th {\n",
       "        text-align: right;\n",
       "    }\n",
       "</style>\n",
       "<table border=\"1\" class=\"dataframe\">\n",
       "  <thead>\n",
       "    <tr style=\"text-align: right;\">\n",
       "      <th></th>\n",
       "      <th>power</th>\n",
       "      <th>start_time</th>\n",
       "      <th>stop_time</th>\n",
       "      <th>run_time</th>\n",
       "      <th>elements</th>\n",
       "    </tr>\n",
       "  </thead>\n",
       "  <tbody>\n",
       "    <tr>\n",
       "      <th>0</th>\n",
       "      <td>1</td>\n",
       "      <td>1569948367672</td>\n",
       "      <td>1569948367682</td>\n",
       "      <td>10</td>\n",
       "      <td>2</td>\n",
       "    </tr>\n",
       "    <tr>\n",
       "      <th>1</th>\n",
       "      <td>2</td>\n",
       "      <td>1569948367685</td>\n",
       "      <td>1569948367686</td>\n",
       "      <td>1</td>\n",
       "      <td>4</td>\n",
       "    </tr>\n",
       "    <tr>\n",
       "      <th>2</th>\n",
       "      <td>3</td>\n",
       "      <td>1569948367687</td>\n",
       "      <td>1569948367689</td>\n",
       "      <td>2</td>\n",
       "      <td>8</td>\n",
       "    </tr>\n",
       "    <tr>\n",
       "      <th>3</th>\n",
       "      <td>4</td>\n",
       "      <td>1569948367689</td>\n",
       "      <td>1569948367693</td>\n",
       "      <td>4</td>\n",
       "      <td>16</td>\n",
       "    </tr>\n",
       "    <tr>\n",
       "      <th>4</th>\n",
       "      <td>5</td>\n",
       "      <td>1569948367693</td>\n",
       "      <td>1569948367697</td>\n",
       "      <td>4</td>\n",
       "      <td>32</td>\n",
       "    </tr>\n",
       "    <tr>\n",
       "      <th>5</th>\n",
       "      <td>6</td>\n",
       "      <td>1569948367699</td>\n",
       "      <td>1569948367706</td>\n",
       "      <td>7</td>\n",
       "      <td>64</td>\n",
       "    </tr>\n",
       "    <tr>\n",
       "      <th>6</th>\n",
       "      <td>7</td>\n",
       "      <td>1569948367708</td>\n",
       "      <td>1569948367721</td>\n",
       "      <td>13</td>\n",
       "      <td>128</td>\n",
       "    </tr>\n",
       "    <tr>\n",
       "      <th>7</th>\n",
       "      <td>8</td>\n",
       "      <td>1569948367728</td>\n",
       "      <td>1569948367761</td>\n",
       "      <td>33</td>\n",
       "      <td>256</td>\n",
       "    </tr>\n",
       "    <tr>\n",
       "      <th>8</th>\n",
       "      <td>9</td>\n",
       "      <td>1569948367766</td>\n",
       "      <td>1569948367874</td>\n",
       "      <td>108</td>\n",
       "      <td>512</td>\n",
       "    </tr>\n",
       "    <tr>\n",
       "      <th>9</th>\n",
       "      <td>10</td>\n",
       "      <td>1569948367884</td>\n",
       "      <td>1569948368295</td>\n",
       "      <td>411</td>\n",
       "      <td>1024</td>\n",
       "    </tr>\n",
       "    <tr>\n",
       "      <th>10</th>\n",
       "      <td>11</td>\n",
       "      <td>1569948368320</td>\n",
       "      <td>1569948369767</td>\n",
       "      <td>1447</td>\n",
       "      <td>2048</td>\n",
       "    </tr>\n",
       "    <tr>\n",
       "      <th>11</th>\n",
       "      <td>12</td>\n",
       "      <td>1569948369817</td>\n",
       "      <td>1569948375417</td>\n",
       "      <td>5600</td>\n",
       "      <td>4096</td>\n",
       "    </tr>\n",
       "    <tr>\n",
       "      <th>12</th>\n",
       "      <td>13</td>\n",
       "      <td>1569948375501</td>\n",
       "      <td>1569948396809</td>\n",
       "      <td>21308</td>\n",
       "      <td>8192</td>\n",
       "    </tr>\n",
       "    <tr>\n",
       "      <th>13</th>\n",
       "      <td>14</td>\n",
       "      <td>1569948397001</td>\n",
       "      <td>1569948485766</td>\n",
       "      <td>88765</td>\n",
       "      <td>16384</td>\n",
       "    </tr>\n",
       "    <tr>\n",
       "      <th>14</th>\n",
       "      <td>15</td>\n",
       "      <td>1569948486153</td>\n",
       "      <td>1569948848980</td>\n",
       "      <td>362827</td>\n",
       "      <td>32768</td>\n",
       "    </tr>\n",
       "  </tbody>\n",
       "</table>\n",
       "</div>"
      ],
      "text/plain": [
       "    power     start_time      stop_time  run_time  elements\n",
       "0       1  1569948367672  1569948367682        10         2\n",
       "1       2  1569948367685  1569948367686         1         4\n",
       "2       3  1569948367687  1569948367689         2         8\n",
       "3       4  1569948367689  1569948367693         4        16\n",
       "4       5  1569948367693  1569948367697         4        32\n",
       "5       6  1569948367699  1569948367706         7        64\n",
       "6       7  1569948367708  1569948367721        13       128\n",
       "7       8  1569948367728  1569948367761        33       256\n",
       "8       9  1569948367766  1569948367874       108       512\n",
       "9      10  1569948367884  1569948368295       411      1024\n",
       "10     11  1569948368320  1569948369767      1447      2048\n",
       "11     12  1569948369817  1569948375417      5600      4096\n",
       "12     13  1569948375501  1569948396809     21308      8192\n",
       "13     14  1569948397001  1569948485766     88765     16384\n",
       "14     15  1569948486153  1569948848980    362827     32768"
      ]
     },
     "execution_count": 14,
     "metadata": {},
     "output_type": "execute_result"
    }
   ],
   "source": [
    "data[sort_algos[0]]"
   ]
  },
  {
   "cell_type": "code",
   "execution_count": 15,
   "metadata": {},
   "outputs": [
    {
     "name": "stdout",
     "output_type": "stream",
     "text": [
      "SelectionSort\n",
      "817495486.8571428\n",
      "a: 9.992592559524246, b: -11620.97071972413 \n",
      "\n",
      "InsertionSort\n",
      "175648974.8285714\n",
      "a: 2.147031594887279, b: -2596.6379026228624 \n",
      "\n",
      "MergeSort\n",
      "4174047.295238095\n",
      "a: 0.05102114276599942, b: -8.774638001800412 \n",
      "\n",
      "CountingSort\n",
      "1308548.7333333332\n",
      "a: 0.0159949437601807, b: 3.385823708021192 \n",
      "\n",
      "NativeSort\n",
      "10772636.304761905\n",
      "a: 0.13167848277581476, b: -14.02784601534961 \n",
      "\n",
      "HeapSort\n",
      "6368705.3904761905\n",
      "a: 0.0778473754556585, b: -16.643326874074944 \n",
      "\n",
      "QuickSort\n",
      "4733908.961904761\n",
      "a: 0.05786456834404644, b: -12.339774790582652 \n",
      "\n"
     ]
    }
   ],
   "source": [
    "for algo, df in data.items():\n",
    "    print(algo)\n",
    "    cov = df.loc[:,['run_time','elements']].cov().iloc[1][0]\n",
    "    print(cov)\n",
    "    a = cov/df[\"elements\"].var()\n",
    "    b = df[\"run_time\"].mean() - df[\"elements\"].mean()*a\n",
    "    print(\"a: \" + str(a) + \", b: \" + str(b),'\\n')"
   ]
  },
  {
   "cell_type": "code",
   "execution_count": null,
   "metadata": {},
   "outputs": [],
   "source": []
  }
 ],
 "metadata": {
  "kernelspec": {
   "display_name": "Python 3",
   "language": "python",
   "name": "python3"
  },
  "language_info": {
   "codemirror_mode": {
    "name": "ipython",
    "version": 3
   },
   "file_extension": ".py",
   "mimetype": "text/x-python",
   "name": "python",
   "nbconvert_exporter": "python",
   "pygments_lexer": "ipython3",
   "version": "3.7.3"
  }
 },
 "nbformat": 4,
 "nbformat_minor": 2
}
